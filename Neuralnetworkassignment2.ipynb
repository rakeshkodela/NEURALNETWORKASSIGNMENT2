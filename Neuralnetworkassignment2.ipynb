{
 "cells": [
  {
   "cell_type": "code",
   "execution_count": 1,
   "id": "d2b1822a",
   "metadata": {},
   "outputs": [
    {
     "name": "stdout",
     "output_type": "stream",
     "text": [
      "enter first namerakesh\n",
      "enter last namekodela\n",
      "Full name is : rakeshkodela\n"
     ]
    }
   ],
   "source": [
    "First_name=input(\"enter first name\") #taking first name from user\n",
    "last_name=input(\"enter last name\") #taking last name from user\n",
    "Full_name=First_name+last_name #concatenating two strings using + symbol\n",
    "print(\"Full name is :\", Full_name)  #printing full name\n"
   ]
  },
  {
   "cell_type": "code",
   "execution_count": 2,
   "id": "ff74896a",
   "metadata": {
    "scrolled": true
   },
   "outputs": [
    {
     "name": "stdout",
     "output_type": "stream",
     "text": [
      "enter stringGood Evening\n",
      "Go vnn\n"
     ]
    }
   ],
   "source": [
    "str1=input(\"enter string\")\n",
    "def string_alternative(str1):  #defining string alternative function\n",
    "    final_String=(str1[::2])   #using slicing retrieving alternate characters in the string and assigning to final string\n",
    "    return print(final_String)        #returning and printing final string\n",
    "string_alternative(str1)  #calling function string_alternative\n",
    "\n"
   ]
  },
  {
   "cell_type": "code",
   "execution_count": 3,
   "id": "e6c3977e",
   "metadata": {
    "scrolled": true
   },
   "outputs": [
    {
     "name": "stdout",
     "output_type": "stream",
     "text": [
      "Python Course\n",
      " Deep Learning Course\n",
      "Number of words in the file:\n",
      " Counter({'Course': 2, 'Python': 1, 'Deep': 1, 'Learning': 1})\n"
     ]
    }
   ],
   "source": [
    "f=open(\"input.txt\",\"w\")  #opening file with write mode\n",
    "f.write(\"Python Course\\n\")  #writing first line \n",
    "f.write(\" Deep Learning Course\") #writing secomd line into file\n",
    "f.close() #closing file after writing\n",
    "f=open(\"input.txt\",\"r\") #opening file with read mode\n",
    "print(f.read()) #reading that file\n",
    "f.close()  # closing file after freading\n",
    "\n",
    "from collections import Counter  #importing Counter from collections library\n",
    "def count_words(filename):   #defining count_words function by taking file as argument\n",
    "    with open(filename) as f: \n",
    "        return Counter(f.read().split())  #reading the input file and split every word in file and count words\n",
    "\n",
    "with open(\"output.txt\",\"a\") as f:  #opening new outputfile and sending output of returned function to output file\n",
    "    print(\"Number of words in the file:\\n\", count_words(\"input.txt\"))     #printing output"
   ]
  },
  {
   "cell_type": "code",
   "execution_count": 4,
   "id": "5910ca38",
   "metadata": {},
   "outputs": [
    {
     "name": "stdout",
     "output_type": "stream",
     "text": [
      "enter customer heights : 23 34 56 78 78 98 123\n",
      "show list :  [58.42, 86.36, 142.24, 198.12, 198.12, 248.92000000000002, 312.42]\n"
     ]
    }
   ],
   "source": [
    "data = input(\"enter customer heights : \")\n",
    "\n",
    "def inchToCent(value):\n",
    "    return value*2.54\n",
    "\n",
    "heights = data.split()\n",
    "\n",
    "new_list = []\n",
    "\n",
    "for x in heights:\n",
    "    value = int(x)\n",
    "    new_list.append(inchToCent(value))\n",
    "    \n",
    "print(\"show list : \",new_list)"
   ]
  }
 ],
 "metadata": {
  "kernelspec": {
   "display_name": "Python 3 (ipykernel)",
   "language": "python",
   "name": "python3"
  },
  "language_info": {
   "codemirror_mode": {
    "name": "ipython",
    "version": 3
   },
   "file_extension": ".py",
   "mimetype": "text/x-python",
   "name": "python",
   "nbconvert_exporter": "python",
   "pygments_lexer": "ipython3",
   "version": "3.9.13"
  }
 },
 "nbformat": 4,
 "nbformat_minor": 5
}
